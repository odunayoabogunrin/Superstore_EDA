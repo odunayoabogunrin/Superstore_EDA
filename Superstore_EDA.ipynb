{
 "cells": [
  {
   "cell_type": "markdown",
   "id": "0078e169",
   "metadata": {},
   "source": [
    "# **SUPERSTORE MACHINE LEARNING PROJECT**\n",
    "\n",
    "## **PROBLEM STATEMENT**\n",
    "\n",
    "A  retail store that has several branches in various regions in the United States of America is battling severe competition with some other organizations. Thus, the management team will like to know what regions, products, categories and customer segment to concentrate on in order to to maximize profit and stay ahead of the competition.\n",
    "\n",
    "\n",
    "## **OBJECTIVES**\n",
    "\n",
    "The objective of this project is to perform exploratory data analysis to gain insights from the dataset.\n",
    "\n",
    "\n",
    "## **DATASET**\n",
    "\n",
    "The dataset contains information about the sales record of a superstore.\n",
    "\n",
    "### **Metadata**\n",
    "\n",
    "**Ship Mode**=> Shipping Mode specified by the Customer.\n",
    "\n",
    "**Segment** => The segment where the Customer belongs.\n",
    "\n",
    "**Country** => Country of residence of the Customer.\n",
    "\n",
    "**City** => City of residence of of the Customer.\n",
    "\n",
    "**State** => State of residence of the Customer.\n",
    "\n",
    "**Postal Code** => Postal Code of every Customer.\n",
    "\n",
    "**Region** => Region where the Customer belong.\n",
    "\n",
    "**Category** => Category of the product ordered.\n",
    "\n",
    "**Sub-Category** => Sub-Category of the product ordered. \n",
    "\n",
    "**Sales** => Sales of the Product.\n",
    "\n",
    "**Quantity** => Quantity of the Product.\n",
    "\n",
    "**Discount** => Discount provided.\n",
    "\n",
    "**Profit** => Profit/Loss incurred.\n",
    "\n",
    "\n",
    "## **Disclaimer**\n",
    "\n",
    "I do not own this data, I found it online. All credits to the original authors/creators. For educational purposes only."
   ]
  },
  {
   "cell_type": "code",
   "execution_count": 1,
   "id": "c59d17fc",
   "metadata": {},
   "outputs": [],
   "source": [
    "#Importing Relevant libraries\n",
    "import pandas as pd\n",
    "import seaborn as sns\n",
    "import numpy as np\n",
    "import matplotlib.pyplot as plt\n",
    "%matplotlib inline \n",
    "import warnings\n",
    "warnings.simplefilter('ignore')"
   ]
  },
  {
   "cell_type": "code",
   "execution_count": 2,
   "id": "ff55cf65",
   "metadata": {
    "scrolled": false
   },
   "outputs": [
    {
     "data": {
      "text/html": [
       "<div>\n",
       "<style scoped>\n",
       "    .dataframe tbody tr th:only-of-type {\n",
       "        vertical-align: middle;\n",
       "    }\n",
       "\n",
       "    .dataframe tbody tr th {\n",
       "        vertical-align: top;\n",
       "    }\n",
       "\n",
       "    .dataframe thead th {\n",
       "        text-align: right;\n",
       "    }\n",
       "</style>\n",
       "<table border=\"1\" class=\"dataframe\">\n",
       "  <thead>\n",
       "    <tr style=\"text-align: right;\">\n",
       "      <th></th>\n",
       "      <th>Ship Mode</th>\n",
       "      <th>Segment</th>\n",
       "      <th>Country</th>\n",
       "      <th>City</th>\n",
       "      <th>State</th>\n",
       "      <th>Postal Code</th>\n",
       "      <th>Region</th>\n",
       "      <th>Category</th>\n",
       "      <th>Sub-Category</th>\n",
       "      <th>Sales</th>\n",
       "      <th>Quantity</th>\n",
       "      <th>Discount</th>\n",
       "      <th>Profit</th>\n",
       "      <th>Shipping Cost</th>\n",
       "    </tr>\n",
       "  </thead>\n",
       "  <tbody>\n",
       "    <tr>\n",
       "      <th>0</th>\n",
       "      <td>Second Class</td>\n",
       "      <td>Consumer</td>\n",
       "      <td>United States</td>\n",
       "      <td>New York City</td>\n",
       "      <td>New York</td>\n",
       "      <td>10024</td>\n",
       "      <td>East</td>\n",
       "      <td>Office Supplies</td>\n",
       "      <td>Paper</td>\n",
       "      <td>$108.92</td>\n",
       "      <td>14</td>\n",
       "      <td>$0.00</td>\n",
       "      <td>$49.01</td>\n",
       "      <td>$2.18</td>\n",
       "    </tr>\n",
       "    <tr>\n",
       "      <th>1</th>\n",
       "      <td>Second Class</td>\n",
       "      <td>Consumer</td>\n",
       "      <td>United States</td>\n",
       "      <td>New York City</td>\n",
       "      <td>New York</td>\n",
       "      <td>10024</td>\n",
       "      <td>East</td>\n",
       "      <td>Technology</td>\n",
       "      <td>Phones</td>\n",
       "      <td>$279.86</td>\n",
       "      <td>14</td>\n",
       "      <td>$0.00</td>\n",
       "      <td>$134.33</td>\n",
       "      <td>$5.60</td>\n",
       "    </tr>\n",
       "    <tr>\n",
       "      <th>2</th>\n",
       "      <td>Standard Class</td>\n",
       "      <td>Corporate</td>\n",
       "      <td>United States</td>\n",
       "      <td>Alexandria</td>\n",
       "      <td>Virginia</td>\n",
       "      <td>22304</td>\n",
       "      <td>South</td>\n",
       "      <td>Furniture</td>\n",
       "      <td>Furnishings</td>\n",
       "      <td>$192.22</td>\n",
       "      <td>14</td>\n",
       "      <td>$0.00</td>\n",
       "      <td>$69.20</td>\n",
       "      <td>$3.84</td>\n",
       "    </tr>\n",
       "    <tr>\n",
       "      <th>3</th>\n",
       "      <td>Second Class</td>\n",
       "      <td>Consumer</td>\n",
       "      <td>United States</td>\n",
       "      <td>Florence</td>\n",
       "      <td>Alabama</td>\n",
       "      <td>35630</td>\n",
       "      <td>South</td>\n",
       "      <td>Furniture</td>\n",
       "      <td>Chairs</td>\n",
       "      <td>$1,819.86</td>\n",
       "      <td>14</td>\n",
       "      <td>$0.00</td>\n",
       "      <td>$163.79</td>\n",
       "      <td>$36.40</td>\n",
       "    </tr>\n",
       "    <tr>\n",
       "      <th>4</th>\n",
       "      <td>Standard Class</td>\n",
       "      <td>Home Office</td>\n",
       "      <td>United States</td>\n",
       "      <td>Jackson</td>\n",
       "      <td>Mississippi</td>\n",
       "      <td>39212</td>\n",
       "      <td>South</td>\n",
       "      <td>Office Supplies</td>\n",
       "      <td>Paper</td>\n",
       "      <td>$319.76</td>\n",
       "      <td>14</td>\n",
       "      <td>$0.00</td>\n",
       "      <td>$147.09</td>\n",
       "      <td>$6.40</td>\n",
       "    </tr>\n",
       "    <tr>\n",
       "      <th>...</th>\n",
       "      <td>...</td>\n",
       "      <td>...</td>\n",
       "      <td>...</td>\n",
       "      <td>...</td>\n",
       "      <td>...</td>\n",
       "      <td>...</td>\n",
       "      <td>...</td>\n",
       "      <td>...</td>\n",
       "      <td>...</td>\n",
       "      <td>...</td>\n",
       "      <td>...</td>\n",
       "      <td>...</td>\n",
       "      <td>...</td>\n",
       "      <td>...</td>\n",
       "    </tr>\n",
       "    <tr>\n",
       "      <th>9972</th>\n",
       "      <td>Second Class</td>\n",
       "      <td>Corporate</td>\n",
       "      <td>United States</td>\n",
       "      <td>Mcallen</td>\n",
       "      <td>Texas</td>\n",
       "      <td>78501</td>\n",
       "      <td>Central</td>\n",
       "      <td>Office Supplies</td>\n",
       "      <td>Binders</td>\n",
       "      <td>$1.48</td>\n",
       "      <td>1</td>\n",
       "      <td>$0.80</td>\n",
       "      <td>($2.29)</td>\n",
       "      <td>$0.03</td>\n",
       "    </tr>\n",
       "    <tr>\n",
       "      <th>9973</th>\n",
       "      <td>First Class</td>\n",
       "      <td>Consumer</td>\n",
       "      <td>United States</td>\n",
       "      <td>Edinburg</td>\n",
       "      <td>Texas</td>\n",
       "      <td>78539</td>\n",
       "      <td>Central</td>\n",
       "      <td>Office Supplies</td>\n",
       "      <td>Binders</td>\n",
       "      <td>$2.07</td>\n",
       "      <td>1</td>\n",
       "      <td>$0.80</td>\n",
       "      <td>($3.41)</td>\n",
       "      <td>$0.04</td>\n",
       "    </tr>\n",
       "    <tr>\n",
       "      <th>9974</th>\n",
       "      <td>First Class</td>\n",
       "      <td>Consumer</td>\n",
       "      <td>United States</td>\n",
       "      <td>Austin</td>\n",
       "      <td>Texas</td>\n",
       "      <td>78745</td>\n",
       "      <td>Central</td>\n",
       "      <td>Office Supplies</td>\n",
       "      <td>Binders</td>\n",
       "      <td>$4.28</td>\n",
       "      <td>1</td>\n",
       "      <td>$0.80</td>\n",
       "      <td>($6.63)</td>\n",
       "      <td>$0.09</td>\n",
       "    </tr>\n",
       "    <tr>\n",
       "      <th>9975</th>\n",
       "      <td>Standard Class</td>\n",
       "      <td>Consumer</td>\n",
       "      <td>United States</td>\n",
       "      <td>Lubbock</td>\n",
       "      <td>Texas</td>\n",
       "      <td>79424</td>\n",
       "      <td>Central</td>\n",
       "      <td>Office Supplies</td>\n",
       "      <td>Binders</td>\n",
       "      <td>$6.08</td>\n",
       "      <td>1</td>\n",
       "      <td>$0.80</td>\n",
       "      <td>($10.34)</td>\n",
       "      <td>$0.12</td>\n",
       "    </tr>\n",
       "    <tr>\n",
       "      <th>9976</th>\n",
       "      <td>Standard Class</td>\n",
       "      <td>Corporate</td>\n",
       "      <td>United States</td>\n",
       "      <td>Odessa</td>\n",
       "      <td>Texas</td>\n",
       "      <td>79762</td>\n",
       "      <td>Central</td>\n",
       "      <td>Office Supplies</td>\n",
       "      <td>Appliances</td>\n",
       "      <td>$13.76</td>\n",
       "      <td>1</td>\n",
       "      <td>$0.80</td>\n",
       "      <td>($24.77)</td>\n",
       "      <td>$0.28</td>\n",
       "    </tr>\n",
       "  </tbody>\n",
       "</table>\n",
       "<p>9977 rows × 14 columns</p>\n",
       "</div>"
      ],
      "text/plain": [
       "           Ship Mode      Segment        Country           City        State  \\\n",
       "0       Second Class     Consumer  United States  New York City     New York   \n",
       "1       Second Class     Consumer  United States  New York City     New York   \n",
       "2     Standard Class    Corporate  United States     Alexandria     Virginia   \n",
       "3       Second Class     Consumer  United States       Florence      Alabama   \n",
       "4     Standard Class  Home Office  United States        Jackson  Mississippi   \n",
       "...              ...          ...            ...            ...          ...   \n",
       "9972    Second Class    Corporate  United States        Mcallen        Texas   \n",
       "9973     First Class     Consumer  United States       Edinburg        Texas   \n",
       "9974     First Class     Consumer  United States         Austin        Texas   \n",
       "9975  Standard Class     Consumer  United States        Lubbock        Texas   \n",
       "9976  Standard Class    Corporate  United States         Odessa        Texas   \n",
       "\n",
       "      Postal Code   Region         Category Sub-Category       Sales  \\\n",
       "0           10024     East  Office Supplies        Paper    $108.92    \n",
       "1           10024     East       Technology       Phones    $279.86    \n",
       "2           22304    South        Furniture  Furnishings    $192.22    \n",
       "3           35630    South        Furniture       Chairs  $1,819.86    \n",
       "4           39212    South  Office Supplies        Paper    $319.76    \n",
       "...           ...      ...              ...          ...         ...   \n",
       "9972        78501  Central  Office Supplies      Binders      $1.48    \n",
       "9973        78539  Central  Office Supplies      Binders      $2.07    \n",
       "9974        78745  Central  Office Supplies      Binders      $4.28    \n",
       "9975        79424  Central  Office Supplies      Binders      $6.08    \n",
       "9976        79762  Central  Office Supplies   Appliances     $13.76    \n",
       "\n",
       "      Quantity Discount    Profit Shipping Cost  \n",
       "0           14   $0.00    $49.01         $2.18   \n",
       "1           14   $0.00   $134.33         $5.60   \n",
       "2           14   $0.00    $69.20         $3.84   \n",
       "3           14   $0.00   $163.79        $36.40   \n",
       "4           14   $0.00   $147.09         $6.40   \n",
       "...        ...      ...       ...           ...  \n",
       "9972         1   $0.80    ($2.29)        $0.03   \n",
       "9973         1   $0.80    ($3.41)        $0.04   \n",
       "9974         1   $0.80    ($6.63)        $0.09   \n",
       "9975         1   $0.80   ($10.34)        $0.12   \n",
       "9976         1   $0.80   ($24.77)        $0.28   \n",
       "\n",
       "[9977 rows x 14 columns]"
      ]
     },
     "execution_count": 2,
     "metadata": {},
     "output_type": "execute_result"
    }
   ],
   "source": [
    "#Loading the dataset\n",
    "superstore= pd.read_csv('Superstore_data.csv')\n",
    "superstore"
   ]
  },
  {
   "cell_type": "markdown",
   "id": "8232fba5",
   "metadata": {},
   "source": [
    "**Comment**: \n",
    "\n",
    "-The dataset has 9977 rows and 15 columns. \n",
    "\n",
    "-It also has some characters such as  '$', '(', ')', ','that must be removed for a hitch-free analysis"
   ]
  },
  {
   "cell_type": "markdown",
   "id": "14304cc0",
   "metadata": {},
   "source": [
    "## **DATA CLEANING AND WRANGLING**"
   ]
  },
  {
   "cell_type": "code",
   "execution_count": 3,
   "id": "54bb65db",
   "metadata": {},
   "outputs": [],
   "source": [
    "#Removing unwanted characters ( '$', '(', ')', ',') in the Sales, Profit, Discount and Shipping Cost columns \n",
    "#List of characters to remove\n",
    "char_to_remove = ['$', '(', ')', ',']\n",
    "#List of column names to clean\n",
    "cols_to_clean = ['Sales', 'Profit','Discount', 'Shipping Cost']\n",
    "# Loop for each column in cols_to_clean\n",
    "for col in cols_to_clean:\n",
    "    # Loop with variable name char_to_remove\n",
    "    for char in char_to_remove:\n",
    "        # Replace the character with an empty string\n",
    "        superstore[col] = superstore[col].apply(lambda x: x.replace(char, ''))  "
   ]
  },
  {
   "cell_type": "code",
   "execution_count": 4,
   "id": "417f41e7",
   "metadata": {},
   "outputs": [
    {
     "data": {
      "text/html": [
       "<div>\n",
       "<style scoped>\n",
       "    .dataframe tbody tr th:only-of-type {\n",
       "        vertical-align: middle;\n",
       "    }\n",
       "\n",
       "    .dataframe tbody tr th {\n",
       "        vertical-align: top;\n",
       "    }\n",
       "\n",
       "    .dataframe thead th {\n",
       "        text-align: right;\n",
       "    }\n",
       "</style>\n",
       "<table border=\"1\" class=\"dataframe\">\n",
       "  <thead>\n",
       "    <tr style=\"text-align: right;\">\n",
       "      <th></th>\n",
       "      <th>Ship Mode</th>\n",
       "      <th>Segment</th>\n",
       "      <th>Country</th>\n",
       "      <th>City</th>\n",
       "      <th>State</th>\n",
       "      <th>Postal Code</th>\n",
       "      <th>Region</th>\n",
       "      <th>Category</th>\n",
       "      <th>Sub-Category</th>\n",
       "      <th>Sales</th>\n",
       "      <th>Quantity</th>\n",
       "      <th>Discount</th>\n",
       "      <th>Profit</th>\n",
       "      <th>Shipping Cost</th>\n",
       "    </tr>\n",
       "  </thead>\n",
       "  <tbody>\n",
       "    <tr>\n",
       "      <th>0</th>\n",
       "      <td>Second Class</td>\n",
       "      <td>Consumer</td>\n",
       "      <td>United States</td>\n",
       "      <td>New York City</td>\n",
       "      <td>New York</td>\n",
       "      <td>10024</td>\n",
       "      <td>East</td>\n",
       "      <td>Office Supplies</td>\n",
       "      <td>Paper</td>\n",
       "      <td>108.92</td>\n",
       "      <td>14</td>\n",
       "      <td>0.00</td>\n",
       "      <td>49.01</td>\n",
       "      <td>2.18</td>\n",
       "    </tr>\n",
       "    <tr>\n",
       "      <th>1</th>\n",
       "      <td>Second Class</td>\n",
       "      <td>Consumer</td>\n",
       "      <td>United States</td>\n",
       "      <td>New York City</td>\n",
       "      <td>New York</td>\n",
       "      <td>10024</td>\n",
       "      <td>East</td>\n",
       "      <td>Technology</td>\n",
       "      <td>Phones</td>\n",
       "      <td>279.86</td>\n",
       "      <td>14</td>\n",
       "      <td>0.00</td>\n",
       "      <td>134.33</td>\n",
       "      <td>5.60</td>\n",
       "    </tr>\n",
       "    <tr>\n",
       "      <th>2</th>\n",
       "      <td>Standard Class</td>\n",
       "      <td>Corporate</td>\n",
       "      <td>United States</td>\n",
       "      <td>Alexandria</td>\n",
       "      <td>Virginia</td>\n",
       "      <td>22304</td>\n",
       "      <td>South</td>\n",
       "      <td>Furniture</td>\n",
       "      <td>Furnishings</td>\n",
       "      <td>192.22</td>\n",
       "      <td>14</td>\n",
       "      <td>0.00</td>\n",
       "      <td>69.20</td>\n",
       "      <td>3.84</td>\n",
       "    </tr>\n",
       "    <tr>\n",
       "      <th>3</th>\n",
       "      <td>Second Class</td>\n",
       "      <td>Consumer</td>\n",
       "      <td>United States</td>\n",
       "      <td>Florence</td>\n",
       "      <td>Alabama</td>\n",
       "      <td>35630</td>\n",
       "      <td>South</td>\n",
       "      <td>Furniture</td>\n",
       "      <td>Chairs</td>\n",
       "      <td>1819.86</td>\n",
       "      <td>14</td>\n",
       "      <td>0.00</td>\n",
       "      <td>163.79</td>\n",
       "      <td>36.40</td>\n",
       "    </tr>\n",
       "    <tr>\n",
       "      <th>4</th>\n",
       "      <td>Standard Class</td>\n",
       "      <td>Home Office</td>\n",
       "      <td>United States</td>\n",
       "      <td>Jackson</td>\n",
       "      <td>Mississippi</td>\n",
       "      <td>39212</td>\n",
       "      <td>South</td>\n",
       "      <td>Office Supplies</td>\n",
       "      <td>Paper</td>\n",
       "      <td>319.76</td>\n",
       "      <td>14</td>\n",
       "      <td>0.00</td>\n",
       "      <td>147.09</td>\n",
       "      <td>6.40</td>\n",
       "    </tr>\n",
       "    <tr>\n",
       "      <th>...</th>\n",
       "      <td>...</td>\n",
       "      <td>...</td>\n",
       "      <td>...</td>\n",
       "      <td>...</td>\n",
       "      <td>...</td>\n",
       "      <td>...</td>\n",
       "      <td>...</td>\n",
       "      <td>...</td>\n",
       "      <td>...</td>\n",
       "      <td>...</td>\n",
       "      <td>...</td>\n",
       "      <td>...</td>\n",
       "      <td>...</td>\n",
       "      <td>...</td>\n",
       "    </tr>\n",
       "    <tr>\n",
       "      <th>9972</th>\n",
       "      <td>Second Class</td>\n",
       "      <td>Corporate</td>\n",
       "      <td>United States</td>\n",
       "      <td>Mcallen</td>\n",
       "      <td>Texas</td>\n",
       "      <td>78501</td>\n",
       "      <td>Central</td>\n",
       "      <td>Office Supplies</td>\n",
       "      <td>Binders</td>\n",
       "      <td>1.48</td>\n",
       "      <td>1</td>\n",
       "      <td>0.80</td>\n",
       "      <td>2.29</td>\n",
       "      <td>0.03</td>\n",
       "    </tr>\n",
       "    <tr>\n",
       "      <th>9973</th>\n",
       "      <td>First Class</td>\n",
       "      <td>Consumer</td>\n",
       "      <td>United States</td>\n",
       "      <td>Edinburg</td>\n",
       "      <td>Texas</td>\n",
       "      <td>78539</td>\n",
       "      <td>Central</td>\n",
       "      <td>Office Supplies</td>\n",
       "      <td>Binders</td>\n",
       "      <td>2.07</td>\n",
       "      <td>1</td>\n",
       "      <td>0.80</td>\n",
       "      <td>3.41</td>\n",
       "      <td>0.04</td>\n",
       "    </tr>\n",
       "    <tr>\n",
       "      <th>9974</th>\n",
       "      <td>First Class</td>\n",
       "      <td>Consumer</td>\n",
       "      <td>United States</td>\n",
       "      <td>Austin</td>\n",
       "      <td>Texas</td>\n",
       "      <td>78745</td>\n",
       "      <td>Central</td>\n",
       "      <td>Office Supplies</td>\n",
       "      <td>Binders</td>\n",
       "      <td>4.28</td>\n",
       "      <td>1</td>\n",
       "      <td>0.80</td>\n",
       "      <td>6.63</td>\n",
       "      <td>0.09</td>\n",
       "    </tr>\n",
       "    <tr>\n",
       "      <th>9975</th>\n",
       "      <td>Standard Class</td>\n",
       "      <td>Consumer</td>\n",
       "      <td>United States</td>\n",
       "      <td>Lubbock</td>\n",
       "      <td>Texas</td>\n",
       "      <td>79424</td>\n",
       "      <td>Central</td>\n",
       "      <td>Office Supplies</td>\n",
       "      <td>Binders</td>\n",
       "      <td>6.08</td>\n",
       "      <td>1</td>\n",
       "      <td>0.80</td>\n",
       "      <td>10.34</td>\n",
       "      <td>0.12</td>\n",
       "    </tr>\n",
       "    <tr>\n",
       "      <th>9976</th>\n",
       "      <td>Standard Class</td>\n",
       "      <td>Corporate</td>\n",
       "      <td>United States</td>\n",
       "      <td>Odessa</td>\n",
       "      <td>Texas</td>\n",
       "      <td>79762</td>\n",
       "      <td>Central</td>\n",
       "      <td>Office Supplies</td>\n",
       "      <td>Appliances</td>\n",
       "      <td>13.76</td>\n",
       "      <td>1</td>\n",
       "      <td>0.80</td>\n",
       "      <td>24.77</td>\n",
       "      <td>0.28</td>\n",
       "    </tr>\n",
       "  </tbody>\n",
       "</table>\n",
       "<p>9977 rows × 14 columns</p>\n",
       "</div>"
      ],
      "text/plain": [
       "           Ship Mode      Segment        Country           City        State  \\\n",
       "0       Second Class     Consumer  United States  New York City     New York   \n",
       "1       Second Class     Consumer  United States  New York City     New York   \n",
       "2     Standard Class    Corporate  United States     Alexandria     Virginia   \n",
       "3       Second Class     Consumer  United States       Florence      Alabama   \n",
       "4     Standard Class  Home Office  United States        Jackson  Mississippi   \n",
       "...              ...          ...            ...            ...          ...   \n",
       "9972    Second Class    Corporate  United States        Mcallen        Texas   \n",
       "9973     First Class     Consumer  United States       Edinburg        Texas   \n",
       "9974     First Class     Consumer  United States         Austin        Texas   \n",
       "9975  Standard Class     Consumer  United States        Lubbock        Texas   \n",
       "9976  Standard Class    Corporate  United States         Odessa        Texas   \n",
       "\n",
       "      Postal Code   Region         Category Sub-Category     Sales  Quantity  \\\n",
       "0           10024     East  Office Supplies        Paper   108.92         14   \n",
       "1           10024     East       Technology       Phones   279.86         14   \n",
       "2           22304    South        Furniture  Furnishings   192.22         14   \n",
       "3           35630    South        Furniture       Chairs  1819.86         14   \n",
       "4           39212    South  Office Supplies        Paper   319.76         14   \n",
       "...           ...      ...              ...          ...       ...       ...   \n",
       "9972        78501  Central  Office Supplies      Binders     1.48          1   \n",
       "9973        78539  Central  Office Supplies      Binders     2.07          1   \n",
       "9974        78745  Central  Office Supplies      Binders     4.28          1   \n",
       "9975        79424  Central  Office Supplies      Binders     6.08          1   \n",
       "9976        79762  Central  Office Supplies   Appliances    13.76          1   \n",
       "\n",
       "     Discount   Profit Shipping Cost  \n",
       "0       0.00    49.01          2.18   \n",
       "1       0.00   134.33          5.60   \n",
       "2       0.00    69.20          3.84   \n",
       "3       0.00   163.79         36.40   \n",
       "4       0.00   147.09          6.40   \n",
       "...       ...      ...           ...  \n",
       "9972    0.80      2.29         0.03   \n",
       "9973    0.80      3.41         0.04   \n",
       "9974    0.80      6.63         0.09   \n",
       "9975    0.80     10.34         0.12   \n",
       "9976    0.80     24.77         0.28   \n",
       "\n",
       "[9977 rows x 14 columns]"
      ]
     },
     "execution_count": 4,
     "metadata": {},
     "output_type": "execute_result"
    }
   ],
   "source": [
    "superstore"
   ]
  },
  {
   "cell_type": "markdown",
   "id": "2ba8234d",
   "metadata": {},
   "source": [
    "**Comment**:The unwanted characters have all been removed."
   ]
  },
  {
   "cell_type": "code",
   "execution_count": 5,
   "id": "b7b37ca0",
   "metadata": {},
   "outputs": [
    {
     "data": {
      "text/plain": [
       "Ship Mode        0\n",
       "Segment          0\n",
       "Country          0\n",
       "City             0\n",
       "State            0\n",
       "Postal Code      0\n",
       "Region           0\n",
       "Category         0\n",
       "Sub-Category     0\n",
       "Sales            0\n",
       "Quantity         0\n",
       "Discount         0\n",
       "Profit           0\n",
       "Shipping Cost    0\n",
       "dtype: int64"
      ]
     },
     "execution_count": 5,
     "metadata": {},
     "output_type": "execute_result"
    }
   ],
   "source": [
    "#Checking for null values\n",
    "superstore.isnull().sum()"
   ]
  },
  {
   "cell_type": "markdown",
   "id": "42ad88ce",
   "metadata": {},
   "source": [
    "**Comment**: The dataset has no null values"
   ]
  },
  {
   "cell_type": "code",
   "execution_count": 6,
   "id": "06373916",
   "metadata": {},
   "outputs": [
    {
     "data": {
      "text/plain": [
       "0"
      ]
     },
     "execution_count": 6,
     "metadata": {},
     "output_type": "execute_result"
    }
   ],
   "source": [
    "#Checking for duplicate values\n",
    "superstore.duplicated().sum()"
   ]
  },
  {
   "cell_type": "markdown",
   "id": "8c5d6bd4",
   "metadata": {},
   "source": [
    "**Comment**: The dataset has no duplicate entries"
   ]
  },
  {
   "cell_type": "code",
   "execution_count": 7,
   "id": "8cb74901",
   "metadata": {
    "scrolled": false
   },
   "outputs": [
    {
     "name": "stdout",
     "output_type": "stream",
     "text": [
      "<class 'pandas.core.frame.DataFrame'>\n",
      "RangeIndex: 9977 entries, 0 to 9976\n",
      "Data columns (total 14 columns):\n",
      " #   Column         Non-Null Count  Dtype \n",
      "---  ------         --------------  ----- \n",
      " 0   Ship Mode      9977 non-null   object\n",
      " 1   Segment        9977 non-null   object\n",
      " 2   Country        9977 non-null   object\n",
      " 3   City           9977 non-null   object\n",
      " 4   State          9977 non-null   object\n",
      " 5   Postal Code    9977 non-null   int64 \n",
      " 6   Region         9977 non-null   object\n",
      " 7   Category       9977 non-null   object\n",
      " 8   Sub-Category   9977 non-null   object\n",
      " 9   Sales          9977 non-null   object\n",
      " 10  Quantity       9977 non-null   int64 \n",
      " 11  Discount       9977 non-null   object\n",
      " 12  Profit         9977 non-null   object\n",
      " 13  Shipping Cost  9977 non-null   object\n",
      "dtypes: int64(2), object(12)\n",
      "memory usage: 1.1+ MB\n"
     ]
    }
   ],
   "source": [
    "superstore.info()"
   ]
  },
  {
   "cell_type": "markdown",
   "id": "a8249a58",
   "metadata": {},
   "source": [
    "**Comment**: The dataset has 9977 rows and 15 columns"
   ]
  },
  {
   "cell_type": "markdown",
   "id": "c569f7d9",
   "metadata": {},
   "source": [
    "The unwanted characters have been removed"
   ]
  },
  {
   "cell_type": "code",
   "execution_count": 8,
   "id": "0078dca5",
   "metadata": {},
   "outputs": [
    {
     "data": {
      "text/plain": [
       "Ship Mode        object\n",
       "Segment          object\n",
       "Country          object\n",
       "City             object\n",
       "State            object\n",
       "Postal Code       int64\n",
       "Region           object\n",
       "Category         object\n",
       "Sub-Category     object\n",
       "Sales            object\n",
       "Quantity          int64\n",
       "Discount         object\n",
       "Profit           object\n",
       "Shipping Cost    object\n",
       "dtype: object"
      ]
     },
     "execution_count": 8,
     "metadata": {},
     "output_type": "execute_result"
    }
   ],
   "source": [
    "#Checking the data types of the columns\n",
    "superstore.dtypes"
   ]
  },
  {
   "cell_type": "markdown",
   "id": "565088fc",
   "metadata": {},
   "source": [
    "**Comment**: The entries in the Sales, Discount, Profit and Shipping Cost columns are object data types. Hence, they will have to be converted from object to float data types to make further analysis with these columns seamless"
   ]
  },
  {
   "cell_type": "code",
   "execution_count": 9,
   "id": "55dd9327",
   "metadata": {},
   "outputs": [],
   "source": [
    "#Coverting the entries in the Sales, Discount, Profit and Shipping Cost columns from object to float data types\n",
    "cols_to_clean = ['Sales', 'Profit','Discount', 'Shipping Cost']\n",
    "for col in cols_to_clean:\n",
    "    superstore[col]=superstore[col]. astype(float)"
   ]
  },
  {
   "cell_type": "code",
   "execution_count": 10,
   "id": "ea49f81c",
   "metadata": {},
   "outputs": [
    {
     "data": {
      "text/plain": [
       "Ship Mode         object\n",
       "Segment           object\n",
       "Country           object\n",
       "City              object\n",
       "State             object\n",
       "Postal Code        int64\n",
       "Region            object\n",
       "Category          object\n",
       "Sub-Category      object\n",
       "Sales            float64\n",
       "Quantity           int64\n",
       "Discount         float64\n",
       "Profit           float64\n",
       "Shipping Cost    float64\n",
       "dtype: object"
      ]
     },
     "execution_count": 10,
     "metadata": {},
     "output_type": "execute_result"
    }
   ],
   "source": [
    "superstore.dtypes"
   ]
  },
  {
   "cell_type": "markdown",
   "id": "0981d4da",
   "metadata": {},
   "source": [
    "**Comment**: The selected columns have been changed to float data type"
   ]
  },
  {
   "cell_type": "code",
   "execution_count": 11,
   "id": "7cafd669",
   "metadata": {},
   "outputs": [],
   "source": [
    "#Dropping the postal code column because it will not be required for the analysis\n",
    "superstore=superstore.drop([\"Postal Code\"], axis='columns')"
   ]
  },
  {
   "cell_type": "code",
   "execution_count": 12,
   "id": "19f773d3",
   "metadata": {},
   "outputs": [
    {
     "data": {
      "text/html": [
       "<div>\n",
       "<style scoped>\n",
       "    .dataframe tbody tr th:only-of-type {\n",
       "        vertical-align: middle;\n",
       "    }\n",
       "\n",
       "    .dataframe tbody tr th {\n",
       "        vertical-align: top;\n",
       "    }\n",
       "\n",
       "    .dataframe thead th {\n",
       "        text-align: right;\n",
       "    }\n",
       "</style>\n",
       "<table border=\"1\" class=\"dataframe\">\n",
       "  <thead>\n",
       "    <tr style=\"text-align: right;\">\n",
       "      <th></th>\n",
       "      <th>Ship Mode</th>\n",
       "      <th>Segment</th>\n",
       "      <th>Country</th>\n",
       "      <th>City</th>\n",
       "      <th>State</th>\n",
       "      <th>Region</th>\n",
       "      <th>Category</th>\n",
       "      <th>Sub-Category</th>\n",
       "      <th>Sales</th>\n",
       "      <th>Quantity</th>\n",
       "      <th>Discount</th>\n",
       "      <th>Profit</th>\n",
       "      <th>Shipping Cost</th>\n",
       "    </tr>\n",
       "  </thead>\n",
       "  <tbody>\n",
       "    <tr>\n",
       "      <th>0</th>\n",
       "      <td>Second Class</td>\n",
       "      <td>Consumer</td>\n",
       "      <td>United States</td>\n",
       "      <td>New York City</td>\n",
       "      <td>New York</td>\n",
       "      <td>East</td>\n",
       "      <td>Office Supplies</td>\n",
       "      <td>Paper</td>\n",
       "      <td>108.92</td>\n",
       "      <td>14</td>\n",
       "      <td>0.0</td>\n",
       "      <td>49.01</td>\n",
       "      <td>2.18</td>\n",
       "    </tr>\n",
       "    <tr>\n",
       "      <th>1</th>\n",
       "      <td>Second Class</td>\n",
       "      <td>Consumer</td>\n",
       "      <td>United States</td>\n",
       "      <td>New York City</td>\n",
       "      <td>New York</td>\n",
       "      <td>East</td>\n",
       "      <td>Technology</td>\n",
       "      <td>Phones</td>\n",
       "      <td>279.86</td>\n",
       "      <td>14</td>\n",
       "      <td>0.0</td>\n",
       "      <td>134.33</td>\n",
       "      <td>5.60</td>\n",
       "    </tr>\n",
       "    <tr>\n",
       "      <th>2</th>\n",
       "      <td>Standard Class</td>\n",
       "      <td>Corporate</td>\n",
       "      <td>United States</td>\n",
       "      <td>Alexandria</td>\n",
       "      <td>Virginia</td>\n",
       "      <td>South</td>\n",
       "      <td>Furniture</td>\n",
       "      <td>Furnishings</td>\n",
       "      <td>192.22</td>\n",
       "      <td>14</td>\n",
       "      <td>0.0</td>\n",
       "      <td>69.20</td>\n",
       "      <td>3.84</td>\n",
       "    </tr>\n",
       "    <tr>\n",
       "      <th>3</th>\n",
       "      <td>Second Class</td>\n",
       "      <td>Consumer</td>\n",
       "      <td>United States</td>\n",
       "      <td>Florence</td>\n",
       "      <td>Alabama</td>\n",
       "      <td>South</td>\n",
       "      <td>Furniture</td>\n",
       "      <td>Chairs</td>\n",
       "      <td>1819.86</td>\n",
       "      <td>14</td>\n",
       "      <td>0.0</td>\n",
       "      <td>163.79</td>\n",
       "      <td>36.40</td>\n",
       "    </tr>\n",
       "    <tr>\n",
       "      <th>4</th>\n",
       "      <td>Standard Class</td>\n",
       "      <td>Home Office</td>\n",
       "      <td>United States</td>\n",
       "      <td>Jackson</td>\n",
       "      <td>Mississippi</td>\n",
       "      <td>South</td>\n",
       "      <td>Office Supplies</td>\n",
       "      <td>Paper</td>\n",
       "      <td>319.76</td>\n",
       "      <td>14</td>\n",
       "      <td>0.0</td>\n",
       "      <td>147.09</td>\n",
       "      <td>6.40</td>\n",
       "    </tr>\n",
       "  </tbody>\n",
       "</table>\n",
       "</div>"
      ],
      "text/plain": [
       "        Ship Mode      Segment        Country           City        State  \\\n",
       "0    Second Class     Consumer  United States  New York City     New York   \n",
       "1    Second Class     Consumer  United States  New York City     New York   \n",
       "2  Standard Class    Corporate  United States     Alexandria     Virginia   \n",
       "3    Second Class     Consumer  United States       Florence      Alabama   \n",
       "4  Standard Class  Home Office  United States        Jackson  Mississippi   \n",
       "\n",
       "  Region         Category Sub-Category    Sales  Quantity  Discount  Profit  \\\n",
       "0   East  Office Supplies        Paper   108.92        14       0.0   49.01   \n",
       "1   East       Technology       Phones   279.86        14       0.0  134.33   \n",
       "2  South        Furniture  Furnishings   192.22        14       0.0   69.20   \n",
       "3  South        Furniture       Chairs  1819.86        14       0.0  163.79   \n",
       "4  South  Office Supplies        Paper   319.76        14       0.0  147.09   \n",
       "\n",
       "   Shipping Cost  \n",
       "0           2.18  \n",
       "1           5.60  \n",
       "2           3.84  \n",
       "3          36.40  \n",
       "4           6.40  "
      ]
     },
     "execution_count": 12,
     "metadata": {},
     "output_type": "execute_result"
    }
   ],
   "source": [
    "superstore.head()"
   ]
  },
  {
   "cell_type": "markdown",
   "id": "87bc9242",
   "metadata": {},
   "source": [
    "The postal code column has been removed"
   ]
  },
  {
   "cell_type": "markdown",
   "id": "e2652f6b",
   "metadata": {},
   "source": [
    "# **EXPLORATORY DATA ANALYSIS**"
   ]
  },
  {
   "cell_type": "markdown",
   "id": "61aafa1f",
   "metadata": {},
   "source": [
    "## **Univariate Analysis**"
   ]
  },
  {
   "cell_type": "code",
   "execution_count": 13,
   "id": "6b1417ef",
   "metadata": {},
   "outputs": [
    {
     "data": {
      "text/plain": [
       "Standard Class    5955\n",
       "Second Class      1943\n",
       "First Class       1537\n",
       "Same Day           542\n",
       "Name: Ship Mode, dtype: int64"
      ]
     },
     "execution_count": 13,
     "metadata": {},
     "output_type": "execute_result"
    }
   ],
   "source": [
    "#Distribution of Shipping mode\n",
    "superstore['Ship Mode'].value_counts()"
   ]
  },
  {
   "cell_type": "code",
   "execution_count": 14,
   "id": "30e9abf2",
   "metadata": {},
   "outputs": [
    {
     "data": {
      "image/png": "[encoded data removed]",
      "text/plain": [
       "<Figure size 432x432 with 1 Axes>"
      ]
     },
     "metadata": {
      "needs_background": "light"
     },
     "output_type": "display_data"
    }
   ],
   "source": [
    "#Setting the palette for the visualization\n",
    "Palette= [\"#acbdba\",\"#2d4159\", \"#DDDDDD\", \"#ff715b\", \"#77878b\", \"#acbdba\",\"#2d4159\", \"#DDDDDD\", \"#ff715b\", \"#77878b\", \"#acbdba\",\"#2d4159\", \"#DDDDDD\", \"#ff715b\", \"#77878b\"]\n",
    "sns.set_palette(Palette)\n",
    "\n",
    "#Visualization for Shipping Mode\n",
    "fig, ax = plt.subplots(figsize = (6, 6))\n",
    "ax= sns.countplot(x = superstore['Ship Mode'], data= superstore) \n",
    "\n",
    "#To show the total count on each bar\n",
    "for p in ax.patches:\n",
    "   ax.annotate('{:.1f}'.format(p.get_height()), (p.get_x()+0.25, p.get_height()+50))\n",
    "plt.xlabel('Shipping Mode')\n",
    "plt.ylabel('Count')\n",
    "plt.title(\"Distribution of Shipping Mode\")\n",
    "plt.show()"
   ]
  },
  {
   "cell_type": "markdown",
   "id": "ac4a54ce",
   "metadata": {},
   "source": [
    "**Comment**: Standard class shipping mode was the most preffered shipping method"
   ]
  },
  {
   "cell_type": "code",
   "execution_count": 15,
   "id": "bc8367ad",
   "metadata": {},
   "outputs": [
    {
     "data": {
      "text/plain": [
       "Consumer       5183\n",
       "Corporate      3015\n",
       "Home Office    1779\n",
       "Name: Segment, dtype: int64"
      ]
     },
     "execution_count": 15,
     "metadata": {},
     "output_type": "execute_result"
    }
   ],
   "source": [
    "#Distribution of Segment\n",
    "superstore.Segment.value_counts()"
   ]
  },
  {
   "cell_type": "code",
   "execution_count": 16,
   "id": "8a3392bb",
   "metadata": {},
   "outputs": [
    {
     "data": {
      "image/png": "[encoded data removed]",
      "text/plain": [
       "<Figure size 432x432 with 1 Axes>"
      ]
     },
     "metadata": {
      "needs_background": "light"
     },
     "output_type": "display_data"
    }
   ],
   "source": [
    "#Creating a barplot to visualize the total count of each segment\n",
    "fig, ax = plt.subplots(figsize = (6, 6))\n",
    "ax = sns.countplot(x = superstore['Segment'], data = superstore)\n",
    "#To show the total count on each bar\n",
    "for p in ax.patches:\n",
    "   ax.annotate('{:.1f}'.format(p.get_height()), (p.get_x()+0.25, p.get_height()+50))\n",
    "plt.xlabel('Segment')\n",
    "plt.ylabel('Count')\n",
    "plt.title(\"Distribution of Segment\")\n",
    "plt.show()"
   ]
  },
  {
   "cell_type": "markdown",
   "id": "3c30002c",
   "metadata": {},
   "source": [
    "**Comment**: The highest quantity of goods sold were in the consumer segment followed by the corporate segment while goods in the home office segment had the least sales"
   ]
  },
  {
   "cell_type": "code",
   "execution_count": 17,
   "id": "2a07dbe3",
   "metadata": {},
   "outputs": [
    {
     "data": {
      "text/plain": [
       "West       3193\n",
       "East       2845\n",
       "Central    2319\n",
       "South      1620\n",
       "Name: Region, dtype: int64"
      ]
     },
     "execution_count": 17,
     "metadata": {},
     "output_type": "execute_result"
    }
   ],
   "source": [
    "#Distribution of Region\n",
    "superstore.Region.value_counts()"
   ]
  },
  {
   "cell_type": "code",
   "execution_count": 18,
   "id": "975305d9",
   "metadata": {},
   "outputs": [
    {
     "data": {
      "image/png": "[encoded data removed]",
      "text/plain": [
       "<Figure size 432x432 with 1 Axes>"
      ]
     },
     "metadata": {
      "needs_background": "light"
     },
     "output_type": "display_data"
    }
   ],
   "source": [
    "#Creating a barplot to visualize the total count of each region\n",
    "fig, ax = plt.subplots(figsize = (6, 6))\n",
    "ax= sns.countplot(x = superstore.Region, data= superstore)\n",
    "\n",
    "#To show the total count on each bar\n",
    "for p in ax.patches:\n",
    "   ax.annotate('{:.1f}'.format(p.get_height()), (p.get_x()+0.25, p.get_height()+25))\n",
    "plt.xlabel('Region')\n",
    "plt.ylabel('Count')\n",
    "plt.title(\"Distribution of Region\")\n",
    "plt.show()"
   ]
  },
  {
   "cell_type": "markdown",
   "id": "e74f9490",
   "metadata": {},
   "source": [
    "**Comment**: The West region sold the highest volume of goods while the South region recorded the lowest volume in sales"
   ]
  },
  {
   "cell_type": "code",
   "execution_count": 19,
   "id": "dd48d795",
   "metadata": {},
   "outputs": [
    {
     "data": {
      "text/plain": [
       "Office Supplies    6012\n",
       "Furniture          2118\n",
       "Technology         1847\n",
       "Name: Category, dtype: int64"
      ]
     },
     "execution_count": 19,
     "metadata": {},
     "output_type": "execute_result"
    }
   ],
   "source": [
    "#Distribution of Category\n",
    "superstore.Category.value_counts()"
   ]
  },
  {
   "cell_type": "code",
   "execution_count": 20,
   "id": "b2f1caee",
   "metadata": {},
   "outputs": [
    {
     "data": {
      "image/png": "[encoded data removed]",
      "text/plain": [
       "<Figure size 432x432 with 1 Axes>"
      ]
     },
     "metadata": {
      "needs_background": "light"
     },
     "output_type": "display_data"
    }
   ],
   "source": [
    "#Creating a barplot to visualize the total count of each region\n",
    "fig, ax = plt.subplots(figsize = (6,6))\n",
    "ax= sns.countplot(x = superstore.Category, data= superstore)\n",
    "#To show the total count on each bar\n",
    "for p in ax.patches:\n",
    "   ax.annotate('{:.1f}'.format(p.get_height()), (p.get_x()+0.25, p.get_height()+50))\n",
    "plt.xlabel('Region')\n",
    "plt.ylabel('Count')\n",
    "plt.title(\"Distribution of Category\")\n",
    "plt.show()"
   ]
  },
  {
   "cell_type": "markdown",
   "id": "13bac9ef",
   "metadata": {},
   "source": [
    "**Comment:** Goods in the Office Supplies category recorded the highest number of sales. "
   ]
  },
  {
   "cell_type": "code",
   "execution_count": 21,
   "id": "a8e4641f",
   "metadata": {},
   "outputs": [
    {
     "data": {
      "image/png": "[encoded data removed]",
      "text/plain": [
       "<Figure size 1296x576 with 1 Axes>"
      ]
     },
     "metadata": {
      "needs_background": "light"
     },
     "output_type": "display_data"
    }
   ],
   "source": [
    "#Creating a barplot to visualize the total count of each sub-category\n",
    "fig, ax = plt.subplots(figsize = (18, 8))\n",
    "ax= sns.countplot(x = superstore['Sub-Category'], data= superstore)\n",
    "\n",
    "#To show the total count on each bar\n",
    "for p in ax.patches:\n",
    "   ax.annotate('{:.1f}'.format(p.get_height()), (p.get_x()+0.10, p.get_height()+10))\n",
    "plt.xlabel('Sub-Category')\n",
    "plt.ylabel('Count')\n",
    "plt.title(\"Distribution of Sub-Category\")\n",
    "plt.show()"
   ]
  },
  {
   "cell_type": "code",
   "execution_count": 22,
   "id": "a6d73da3",
   "metadata": {},
   "outputs": [
    {
     "data": {
      "image/png": "[encoded data removed]",
      "text/plain": [
       "<Figure size 720x432 with 1 Axes>"
      ]
     },
     "metadata": {
      "needs_background": "light"
     },
     "output_type": "display_data"
    }
   ],
   "source": [
    "#Top Five Sub-Category\n",
    "\n",
    "ax=superstore['Sub-Category'].value_counts().head(5).plot.bar(rot=0, figsize=(10,6), color=['grey','salmon','gainsboro', 'silver', 'slategrey'])\n",
    "ax.ticklabel_format(axis='y', style='plain')\n",
    "for p in ax.patches:\n",
    "   ax.annotate('{:.1f}'.format(p.get_height()), (p.get_x()+0.10, p.get_height()+10))\n",
    "plt.xlabel('Sub-Category')\n",
    "plt.ylabel('Count')\n",
    "plt.title('Top five Sub-Category')\n",
    "plt.show()"
   ]
  },
  {
   "cell_type": "markdown",
   "id": "639d3e35",
   "metadata": {},
   "source": [
    "**Comment**: Items in the binders sub-category had the highest sales followed by goods in the paper, furnishings, phones and storage sub-categories respectively"
   ]
  },
  {
   "cell_type": "code",
   "execution_count": 23,
   "id": "46e3ebd6",
   "metadata": {},
   "outputs": [
    {
     "data": {
      "image/png": "[encoded data removed]",
      "text/plain": [
       "<Figure size 720x432 with 1 Axes>"
      ]
     },
     "metadata": {
      "needs_background": "light"
     },
     "output_type": "display_data"
    }
   ],
   "source": [
    "# Top Five Sub-Category\n",
    "ax=superstore['Sub-Category'].value_counts().tail(5).plot.bar(rot=0, figsize=(10,6),color=['grey','salmon','gainsboro', 'silver', 'slategrey'])\n",
    "ax.ticklabel_format(axis='y', style='plain')\n",
    "for p in ax.patches:\n",
    "   ax.annotate('{:.1f}'.format(p.get_height()), (p.get_x()+0.02,p.get_height()+2))\n",
    "plt.xlabel('Sub-Category')\n",
    "plt.ylabel('Count')\n",
    "plt.title('Bottom five Sub-Category')\n",
    "plt.show()"
   ]
  },
  {
   "cell_type": "markdown",
   "id": "d1144f7e",
   "metadata": {},
   "source": [
    "**Comment** :Goods in the bookcases, fasteners, supplies , machines and copiers sub-category had the lowest sales"
   ]
  },
  {
   "cell_type": "code",
   "execution_count": 24,
   "id": "e3b5aa99",
   "metadata": {},
   "outputs": [
    {
     "data": {
      "text/plain": [
       "New York City    914\n",
       "Los Angeles      746\n",
       "Philadelphia     536\n",
       "San Francisco    506\n",
       "Seattle          424\n",
       "                ... \n",
       "Waterloo           1\n",
       "Saint Peters       1\n",
       "Layton             1\n",
       "La Quinta          1\n",
       "Abilene            1\n",
       "Name: City, Length: 531, dtype: int64"
      ]
     },
     "execution_count": 24,
     "metadata": {},
     "output_type": "execute_result"
    }
   ],
   "source": [
    "superstore.City.value_counts()"
   ]
  },
  {
   "cell_type": "code",
   "execution_count": 25,
   "id": "abf43ec9",
   "metadata": {},
   "outputs": [
    {
     "data": {
      "image/png": "[encoded data removed]",
      "text/plain": [
       "<Figure size 648x432 with 1 Axes>"
      ]
     },
     "metadata": {
      "needs_background": "light"
     },
     "output_type": "display_data"
    }
   ],
   "source": [
    "#Five cities with the highest sales\n",
    "\n",
    "Colours=['grey','salmon','gainsboro', 'silver', 'slategrey']\n",
    "ax=superstore['City'].value_counts().head(5).plot.bar(rot=0, figsize=(9,6),color=Colours)\n",
    "ax.ticklabel_format(axis='y', style='plain')\n",
    "for p in ax.patches:\n",
    "   ax.annotate('{:.1f}'.format(p.get_height()), (p.get_x()+0.1,p.get_height()+10))\n",
    "plt.xlabel('Cities')\n",
    "plt.ylabel('Count')\n",
    "plt.title('Five Cities with the highest Sales')\n",
    "plt.show()"
   ]
  },
  {
   "cell_type": "markdown",
   "id": "4e1a5892",
   "metadata": {},
   "source": [
    " **Comment**: The highest volume of sales were recorded in the New York City, Los Angeles, Philadelphia, San Francisco and Seattle stores"
   ]
  },
  {
   "cell_type": "code",
   "execution_count": 26,
   "id": "ef4d6942",
   "metadata": {},
   "outputs": [
    {
     "data": {
      "image/png": "[encoded data removed]",
      "text/plain": [
       "<Figure size 648x432 with 1 Axes>"
      ]
     },
     "metadata": {
      "needs_background": "light"
     },
     "output_type": "display_data"
    }
   ],
   "source": [
    "#Five cities with the least sales\n",
    "\n",
    "ax=superstore['City'].value_counts().tail(5).plot.bar(rot=0, figsize=(9,6),color=Colours)\n",
    "ax.ticklabel_format(axis='y', style='plain')\n",
    "plt.xlabel('Cities')\n",
    "plt.ylabel('Count')\n",
    "plt.title('Five Cities with the Lowest Sales')\n",
    "plt.show()"
   ]
  },
  {
   "cell_type": "markdown",
   "id": "5930327c",
   "metadata": {},
   "source": [
    "**Comment**: The lowest proportion of sales were recorded in the Waterloo, Saint Peters, Layton, La Quinta and Abilene stores"
   ]
  },
  {
   "cell_type": "markdown",
   "id": "1d78ce8c",
   "metadata": {},
   "source": [
    "## **Observation:**\n",
    "\n",
    "1. The most preferred shipping method by the clients is standard class.\n",
    "\n",
    "2. The majority of the goods sold are in the consumer segment.\n",
    "\n",
    "3. Most purchases were made by customers from the East and West regions as opposed to the South and Central Regions.\n",
    "\n",
    "3. Office supplies was in the lead of the categories of goods sold by the superstore\n",
    "\n",
    "4. Binders and Paper are in the lead were thw highest sub-category of goods sold\n",
    "\n",
    "5. New York City leads all cities in terms of the number of purchases made, followed by Los Angeles."
   ]
  },
  {
   "cell_type": "markdown",
   "id": "9751ecc2",
   "metadata": {},
   "source": [
    "## **Bivariate Analysis**"
   ]
  },
  {
   "cell_type": "code",
   "execution_count": 27,
   "id": "4e698cf4",
   "metadata": {},
   "outputs": [
    {
     "data": {
      "image/png": "[encoded data removed]",
      "text/plain": [
       "<Figure size 720x576 with 1 Axes>"
      ]
     },
     "metadata": {
      "needs_background": "light"
     },
     "output_type": "display_data"
    }
   ],
   "source": [
    "#Bar chart showing cities with the highest sales\n",
    "superstore.groupby('City')['Sales'].sum().sort_values(ascending=False).head(10).plot.barh(color =Colours, figsize = (10, 8))\n",
    "plt.xlabel('Cities')\n",
    "plt.ylabel('Sales')\n",
    "plt.title('Ten Cities with the Highest Sales')\n",
    "plt.show()"
   ]
  },
  {
   "cell_type": "markdown",
   "id": "1bfe3d60",
   "metadata": {},
   "source": [
    "**Comment**: New York City outlet sold the highest volume of goods"
   ]
  },
  {
   "cell_type": "code",
   "execution_count": 28,
   "id": "95b1ef0c",
   "metadata": {},
   "outputs": [
    {
     "data": {
      "image/png": "[encoded data removed]",
      "text/plain": [
       "<Figure size 720x576 with 1 Axes>"
      ]
     },
     "metadata": {
      "needs_background": "light"
     },
     "output_type": "display_data"
    }
   ],
   "source": [
    "#Bar chart showing cities with the lowest sales\n",
    "superstore.groupby('City')['Sales'].sum().sort_values(ascending=False).tail(10).plot.barh(color =Colours, figsize = (10, 8))\n",
    "plt.xlabel('Cities')\n",
    "plt.ylabel('Sales')\n",
    "plt.title('Ten Cities with the Least Sales')\n",
    "plt.show()"
   ]
  },
  {
   "cell_type": "markdown",
   "id": "0d685332",
   "metadata": {},
   "source": [
    "**Comment**: The Abilene store sold the least amount of goods"
   ]
  },
  {
   "cell_type": "code",
   "execution_count": 29,
   "id": "834b86b8",
   "metadata": {},
   "outputs": [
    {
     "data": {
      "image/png": "[encoded data removed]",
      "text/plain": [
       "<Figure size 720x576 with 1 Axes>"
      ]
     },
     "metadata": {
      "needs_background": "light"
     },
     "output_type": "display_data"
    }
   ],
   "source": [
    "#Bar chart showing cities with the highest profit\n",
    "superstore.groupby('City')['Profit'].sum().sort_values(ascending=False).head(10).plot.barh(color =Colours, figsize = (10, 8))\n",
    "plt.xlabel('Cities')\n",
    "plt.ylabel('Profit')\n",
    "plt.title('Ten Cities with the Highest Profit')\n",
    "plt.show()"
   ]
  },
  {
   "cell_type": "markdown",
   "id": "35313bd6",
   "metadata": {},
   "source": [
    "**Comment**: The New York City Store generated the highest profit"
   ]
  },
  {
   "cell_type": "code",
   "execution_count": 30,
   "id": "ade8998b",
   "metadata": {},
   "outputs": [
    {
     "data": {
      "image/png": "[encoded data removed]",
      "text/plain": [
       "<Figure size 720x576 with 1 Axes>"
      ]
     },
     "metadata": {
      "needs_background": "light"
     },
     "output_type": "display_data"
    }
   ],
   "source": [
    "#Bar chart showing cities with the least profit\n",
    "superstore.groupby('City')['Profit'].sum().sort_values(ascending=False).tail(10).plot.barh(color =Colours, figsize = (10, 8))\n",
    "plt.xlabel('Cities')\n",
    "plt.ylabel('Profit')\n",
    "plt.title('Ten Cities with the Least Profit')\n",
    "plt.show()"
   ]
  },
  {
   "cell_type": "markdown",
   "id": "64d228d5",
   "metadata": {},
   "source": [
    "**Comment**:The store located in Jupiter generated the least profit"
   ]
  },
  {
   "cell_type": "code",
   "execution_count": 31,
   "id": "14896d09",
   "metadata": {},
   "outputs": [
    {
     "data": {
      "image/png": "[encoded data removed]",
      "text/plain": [
       "<Figure size 576x432 with 1 Axes>"
      ]
     },
     "metadata": {
      "needs_background": "light"
     },
     "output_type": "display_data"
    }
   ],
   "source": [
    "#Bar chart showing the profit generated in each category\n",
    "ax=superstore.groupby('Category')['Profit'].sum().sort_values(ascending=False).plot.bar(color =Colours, figsize = (8, 6))\n",
    "for p in ax.patches:\n",
    "   ax.annotate('{:.1f}'.format(p.get_height()), (p.get_x()+0.1,p.get_height()+10))\n",
    "plt.xticks(rotation=0, horizontalalignment='center')\n",
    "plt.xlabel('Category')\n",
    "plt.ylabel('Profit')\n",
    "plt.title('Category with the highest profit')\n",
    "plt.show()"
   ]
  },
  {
   "cell_type": "markdown",
   "id": "b9b53837",
   "metadata": {},
   "source": [
    "**Comment**: Office supplies category generated the highest profit"
   ]
  },
  {
   "cell_type": "code",
   "execution_count": 32,
   "id": "83577744",
   "metadata": {},
   "outputs": [
    {
     "data": {
      "image/png": "[encoded data removed]",
      "text/plain": [
       "<Figure size 864x864 with 1 Axes>"
      ]
     },
     "metadata": {
      "needs_background": "light"
     },
     "output_type": "display_data"
    }
   ],
   "source": [
    "#Bar chart showing the profit generated in each sub-category\n",
    "ax=superstore.groupby('Sub-Category')['Profit'].sum().sort_values(ascending=False).head(10).plot.bar(color =Colours, figsize = (12, 12))\n",
    "for p in ax.patches:\n",
    "   ax.annotate('{:.1f}'.format(p.get_height()), (p.get_x()+0.05,p.get_height()+5))\n",
    "plt.xticks(rotation=0, horizontalalignment='center')\n",
    "plt.xlabel('Sub-Category')\n",
    "plt.ylabel('Profit')\n",
    "plt.title('Top 10 Sub-Categories with the highest profit')\n",
    "plt.show()"
   ]
  },
  {
   "cell_type": "markdown",
   "id": "f799c940",
   "metadata": {},
   "source": [
    "**Comment**:Binders sub-category generated the highest profit"
   ]
  },
  {
   "cell_type": "code",
   "execution_count": 33,
   "id": "1cf67399",
   "metadata": {},
   "outputs": [
    {
     "data": {
      "image/png": "[encoded data removed]",
      "text/plain": [
       "<Figure size 864x720 with 1 Axes>"
      ]
     },
     "metadata": {
      "needs_background": "light"
     },
     "output_type": "display_data"
    }
   ],
   "source": [
    "#Bar chart showing sub-category with the least\n",
    "ax=superstore.groupby('Sub-Category')['Profit'].sum().sort_values(ascending=False).tail(5).plot.bar(color =Colours, figsize = (12, 10))\n",
    "for p in ax.patches:\n",
    "   ax.annotate('{:.1f}'.format(p.get_height()), (p.get_x()+0.2,p.get_height()+20))\n",
    "plt.xticks(rotation=0, horizontalalignment='center')\n",
    "plt.xlabel('Sub-Category')\n",
    "plt.ylabel('Profit')\n",
    "plt.title('Five Sub-Categories with the Least profit')\n",
    "plt.show()"
   ]
  },
  {
   "cell_type": "markdown",
   "id": "30cff03c",
   "metadata": {},
   "source": [
    "**Comment**: Goods in the fasteners sub-category generated the least profit"
   ]
  },
  {
   "cell_type": "code",
   "execution_count": 34,
   "id": "60d6dcd7",
   "metadata": {},
   "outputs": [
    {
     "data": {
      "image/png": "[encoded data removed]",
      "text/plain": [
       "<Figure size 864x720 with 1 Axes>"
      ]
     },
     "metadata": {
      "needs_background": "light"
     },
     "output_type": "display_data"
    }
   ],
   "source": [
    "#Bar chart showing stors that gave the highest discount\n",
    "ax=superstore.groupby('City')['Discount'].sum().sort_values(ascending=False).head(10).plot.bar(color =Colours, figsize = (12, 10))\n",
    "for p in ax.patches:\n",
    "   ax.annotate('{:.1f}'.format(p.get_height()), (p.get_x()+0.05,p.get_height()+5))\n",
    "plt.xticks(rotation=0, horizontalalignment='center')\n",
    "plt.xlabel('Sub-Category')\n",
    "plt.ylabel('Profit')\n",
    "plt.title('Ten City Stores that gave the Highest Discount')\n",
    "plt.show()"
   ]
  },
  {
   "cell_type": "markdown",
   "id": "6a0eea5a",
   "metadata": {},
   "source": [
    "**Comment**:  The stores in Philadelphia, Houston and Chicago gave the highest discount to customers"
   ]
  },
  {
   "cell_type": "markdown",
   "id": "b5ea7253",
   "metadata": {},
   "source": [
    "## **Multivariate Analysis**"
   ]
  },
  {
   "cell_type": "code",
   "execution_count": 35,
   "id": "8d413bd7",
   "metadata": {},
   "outputs": [
    {
     "data": {
      "text/html": [
       "<div>\n",
       "<style scoped>\n",
       "    .dataframe tbody tr th:only-of-type {\n",
       "        vertical-align: middle;\n",
       "    }\n",
       "\n",
       "    .dataframe tbody tr th {\n",
       "        vertical-align: top;\n",
       "    }\n",
       "\n",
       "    .dataframe thead th {\n",
       "        text-align: right;\n",
       "    }\n",
       "</style>\n",
       "<table border=\"1\" class=\"dataframe\">\n",
       "  <thead>\n",
       "    <tr style=\"text-align: right;\">\n",
       "      <th></th>\n",
       "      <th>Sales</th>\n",
       "      <th>Quantity</th>\n",
       "      <th>Discount</th>\n",
       "      <th>Profit</th>\n",
       "      <th>Shipping Cost</th>\n",
       "    </tr>\n",
       "    <tr>\n",
       "      <th>Category</th>\n",
       "      <th></th>\n",
       "      <th></th>\n",
       "      <th></th>\n",
       "      <th></th>\n",
       "      <th></th>\n",
       "    </tr>\n",
       "  </thead>\n",
       "  <tbody>\n",
       "    <tr>\n",
       "      <th>Office Supplies</th>\n",
       "      <td>718735.21</td>\n",
       "      <td>22861</td>\n",
       "      <td>946.20</td>\n",
       "      <td>235583.13</td>\n",
       "      <td>14376.23</td>\n",
       "    </tr>\n",
       "    <tr>\n",
       "      <th>Technology</th>\n",
       "      <td>836154.10</td>\n",
       "      <td>6939</td>\n",
       "      <td>244.40</td>\n",
       "      <td>222615.74</td>\n",
       "      <td>16724.04</td>\n",
       "    </tr>\n",
       "    <tr>\n",
       "      <th>Furniture</th>\n",
       "      <td>741306.50</td>\n",
       "      <td>8020</td>\n",
       "      <td>368.59</td>\n",
       "      <td>140270.45</td>\n",
       "      <td>14826.90</td>\n",
       "    </tr>\n",
       "  </tbody>\n",
       "</table>\n",
       "</div>"
      ],
      "text/plain": [
       "                     Sales  Quantity  Discount     Profit  Shipping Cost\n",
       "Category                                                                \n",
       "Office Supplies  718735.21     22861    946.20  235583.13       14376.23\n",
       "Technology       836154.10      6939    244.40  222615.74       16724.04\n",
       "Furniture        741306.50      8020    368.59  140270.45       14826.90"
      ]
     },
     "execution_count": 35,
     "metadata": {},
     "output_type": "execute_result"
    }
   ],
   "source": [
    "#Grouping category by profit\n",
    "profit_category = superstore.groupby('Category').sum().sort_values(ascending = False, by = 'Profit')\n",
    "profit_category"
   ]
  },
  {
   "cell_type": "markdown",
   "id": "fb2a2341",
   "metadata": {},
   "source": [
    "**Comment**: Though goods in the Office sub-category sold the highest quantity of goods and generated the second highest profit"
   ]
  },
  {
   "cell_type": "code",
   "execution_count": 36,
   "id": "a6389d89",
   "metadata": {},
   "outputs": [
    {
     "data": {
      "text/html": [
       "<div>\n",
       "<style scoped>\n",
       "    .dataframe tbody tr th:only-of-type {\n",
       "        vertical-align: middle;\n",
       "    }\n",
       "\n",
       "    .dataframe tbody tr th {\n",
       "        vertical-align: top;\n",
       "    }\n",
       "\n",
       "    .dataframe thead th {\n",
       "        text-align: right;\n",
       "    }\n",
       "</style>\n",
       "<table border=\"1\" class=\"dataframe\">\n",
       "  <thead>\n",
       "    <tr style=\"text-align: right;\">\n",
       "      <th></th>\n",
       "      <th>Sales</th>\n",
       "      <th>Quantity</th>\n",
       "      <th>Discount</th>\n",
       "      <th>Profit</th>\n",
       "      <th>Shipping Cost</th>\n",
       "    </tr>\n",
       "    <tr>\n",
       "      <th>Segment</th>\n",
       "      <th></th>\n",
       "      <th></th>\n",
       "      <th></th>\n",
       "      <th></th>\n",
       "      <th></th>\n",
       "    </tr>\n",
       "  </thead>\n",
       "  <tbody>\n",
       "    <tr>\n",
       "      <th>Consumer</th>\n",
       "      <td>1160832.77</td>\n",
       "      <td>19497</td>\n",
       "      <td>820.51</td>\n",
       "      <td>303899.74</td>\n",
       "      <td>23218.25</td>\n",
       "    </tr>\n",
       "    <tr>\n",
       "      <th>Corporate</th>\n",
       "      <td>706070.21</td>\n",
       "      <td>11591</td>\n",
       "      <td>476.85</td>\n",
       "      <td>181517.54</td>\n",
       "      <td>14122.37</td>\n",
       "    </tr>\n",
       "    <tr>\n",
       "      <th>Home Office</th>\n",
       "      <td>429292.83</td>\n",
       "      <td>6732</td>\n",
       "      <td>261.83</td>\n",
       "      <td>113052.04</td>\n",
       "      <td>8586.55</td>\n",
       "    </tr>\n",
       "  </tbody>\n",
       "</table>\n",
       "</div>"
      ],
      "text/plain": [
       "                  Sales  Quantity  Discount     Profit  Shipping Cost\n",
       "Segment                                                              \n",
       "Consumer     1160832.77     19497    820.51  303899.74       23218.25\n",
       "Corporate     706070.21     11591    476.85  181517.54       14122.37\n",
       "Home Office   429292.83      6732    261.83  113052.04        8586.55"
      ]
     },
     "execution_count": 36,
     "metadata": {},
     "output_type": "execute_result"
    }
   ],
   "source": [
    "#Grouping segment by profit\n",
    "profit_segment = superstore.groupby('Segment').sum().sort_values(ascending = False, by = 'Profit')\n",
    "profit_segment"
   ]
  },
  {
   "cell_type": "markdown",
   "id": "172e1164",
   "metadata": {},
   "source": [
    "**Comment**: The consumer segment sold the highest quantity of goods, generated the highest sales, profit and gave the highest discount"
   ]
  },
  {
   "cell_type": "code",
   "execution_count": 37,
   "id": "68b43a2e",
   "metadata": {},
   "outputs": [
    {
     "data": {
      "text/html": [
       "<div>\n",
       "<style scoped>\n",
       "    .dataframe tbody tr th:only-of-type {\n",
       "        vertical-align: middle;\n",
       "    }\n",
       "\n",
       "    .dataframe tbody tr th {\n",
       "        vertical-align: top;\n",
       "    }\n",
       "\n",
       "    .dataframe thead th {\n",
       "        text-align: right;\n",
       "    }\n",
       "</style>\n",
       "<table border=\"1\" class=\"dataframe\">\n",
       "  <thead>\n",
       "    <tr style=\"text-align: right;\">\n",
       "      <th></th>\n",
       "      <th>Sales</th>\n",
       "      <th>Quantity</th>\n",
       "      <th>Discount</th>\n",
       "      <th>Profit</th>\n",
       "      <th>Shipping Cost</th>\n",
       "    </tr>\n",
       "    <tr>\n",
       "      <th>Region</th>\n",
       "      <th></th>\n",
       "      <th></th>\n",
       "      <th></th>\n",
       "      <th></th>\n",
       "      <th></th>\n",
       "    </tr>\n",
       "  </thead>\n",
       "  <tbody>\n",
       "    <tr>\n",
       "      <th>East</th>\n",
       "      <td>678435.32</td>\n",
       "      <td>10609</td>\n",
       "      <td>413.50</td>\n",
       "      <td>190663.91</td>\n",
       "      <td>13569.65</td>\n",
       "    </tr>\n",
       "    <tr>\n",
       "      <th>West</th>\n",
       "      <td>725255.74</td>\n",
       "      <td>12234</td>\n",
       "      <td>350.00</td>\n",
       "      <td>153772.41</td>\n",
       "      <td>14506.24</td>\n",
       "    </tr>\n",
       "    <tr>\n",
       "      <th>Central</th>\n",
       "      <td>500782.85</td>\n",
       "      <td>8768</td>\n",
       "      <td>557.14</td>\n",
       "      <td>152273.55</td>\n",
       "      <td>10016.35</td>\n",
       "    </tr>\n",
       "    <tr>\n",
       "      <th>South</th>\n",
       "      <td>391721.90</td>\n",
       "      <td>6209</td>\n",
       "      <td>238.55</td>\n",
       "      <td>101759.45</td>\n",
       "      <td>7834.93</td>\n",
       "    </tr>\n",
       "  </tbody>\n",
       "</table>\n",
       "</div>"
      ],
      "text/plain": [
       "             Sales  Quantity  Discount     Profit  Shipping Cost\n",
       "Region                                                          \n",
       "East     678435.32     10609    413.50  190663.91       13569.65\n",
       "West     725255.74     12234    350.00  153772.41       14506.24\n",
       "Central  500782.85      8768    557.14  152273.55       10016.35\n",
       "South    391721.90      6209    238.55  101759.45        7834.93"
      ]
     },
     "execution_count": 37,
     "metadata": {},
     "output_type": "execute_result"
    }
   ],
   "source": [
    "#Grouping region by profit\n",
    "profit_region = superstore.groupby('Region').sum().sort_values(ascending = False, by = 'Profit')\n",
    "profit_region"
   ]
  },
  {
   "cell_type": "markdown",
   "id": "7aa8646d",
   "metadata": {},
   "source": [
    "**Comment**: The East and West regions took the lead in Sales, Quantity, Profit and Shipping Cost"
   ]
  },
  {
   "cell_type": "code",
   "execution_count": 38,
   "id": "6a7904c3",
   "metadata": {},
   "outputs": [
    {
     "data": {
      "text/html": [
       "<div>\n",
       "<style scoped>\n",
       "    .dataframe tbody tr th:only-of-type {\n",
       "        vertical-align: middle;\n",
       "    }\n",
       "\n",
       "    .dataframe tbody tr th {\n",
       "        vertical-align: top;\n",
       "    }\n",
       "\n",
       "    .dataframe thead th {\n",
       "        text-align: right;\n",
       "    }\n",
       "</style>\n",
       "<table border=\"1\" class=\"dataframe\">\n",
       "  <thead>\n",
       "    <tr style=\"text-align: right;\">\n",
       "      <th></th>\n",
       "      <th>Sales</th>\n",
       "      <th>Quantity</th>\n",
       "      <th>Discount</th>\n",
       "      <th>Profit</th>\n",
       "      <th>Shipping Cost</th>\n",
       "    </tr>\n",
       "    <tr>\n",
       "      <th>Sub-Category</th>\n",
       "      <th></th>\n",
       "      <th></th>\n",
       "      <th></th>\n",
       "      <th></th>\n",
       "      <th></th>\n",
       "    </tr>\n",
       "  </thead>\n",
       "  <tbody>\n",
       "    <tr>\n",
       "      <th>Binders</th>\n",
       "      <td>203409.21</td>\n",
       "      <td>5971</td>\n",
       "      <td>566.20</td>\n",
       "      <td>107236.68</td>\n",
       "      <td>4068.42</td>\n",
       "    </tr>\n",
       "    <tr>\n",
       "      <th>Machines</th>\n",
       "      <td>189238.68</td>\n",
       "      <td>440</td>\n",
       "      <td>35.20</td>\n",
       "      <td>63622.17</td>\n",
       "      <td>3784.82</td>\n",
       "    </tr>\n",
       "    <tr>\n",
       "      <th>Phones</th>\n",
       "      <td>330007.10</td>\n",
       "      <td>3289</td>\n",
       "      <td>137.40</td>\n",
       "      <td>59577.59</td>\n",
       "      <td>6600.61</td>\n",
       "    </tr>\n",
       "    <tr>\n",
       "      <th>Copiers</th>\n",
       "      <td>149528.01</td>\n",
       "      <td>234</td>\n",
       "      <td>11.00</td>\n",
       "      <td>55617.90</td>\n",
       "      <td>2990.60</td>\n",
       "    </tr>\n",
       "    <tr>\n",
       "      <th>Tables</th>\n",
       "      <td>206965.68</td>\n",
       "      <td>1241</td>\n",
       "      <td>83.35</td>\n",
       "      <td>47098.89</td>\n",
       "      <td>4139.36</td>\n",
       "    </tr>\n",
       "    <tr>\n",
       "      <th>Chairs</th>\n",
       "      <td>327777.79</td>\n",
       "      <td>2351</td>\n",
       "      <td>104.70</td>\n",
       "      <td>46304.89</td>\n",
       "      <td>6555.89</td>\n",
       "    </tr>\n",
       "    <tr>\n",
       "      <th>Accessories</th>\n",
       "      <td>167380.31</td>\n",
       "      <td>2976</td>\n",
       "      <td>60.80</td>\n",
       "      <td>43798.08</td>\n",
       "      <td>3348.01</td>\n",
       "    </tr>\n",
       "    <tr>\n",
       "      <th>Appliances</th>\n",
       "      <td>107532.14</td>\n",
       "      <td>1729</td>\n",
       "      <td>77.60</td>\n",
       "      <td>35397.41</td>\n",
       "      <td>2150.77</td>\n",
       "    </tr>\n",
       "    <tr>\n",
       "      <th>Storage</th>\n",
       "      <td>223843.59</td>\n",
       "      <td>3158</td>\n",
       "      <td>63.20</td>\n",
       "      <td>34131.67</td>\n",
       "      <td>4477.14</td>\n",
       "    </tr>\n",
       "    <tr>\n",
       "      <th>Paper</th>\n",
       "      <td>78224.18</td>\n",
       "      <td>5144</td>\n",
       "      <td>101.80</td>\n",
       "      <td>33944.02</td>\n",
       "      <td>1565.05</td>\n",
       "    </tr>\n",
       "    <tr>\n",
       "      <th>Furnishings</th>\n",
       "      <td>91682.98</td>\n",
       "      <td>3560</td>\n",
       "      <td>132.40</td>\n",
       "      <td>26034.63</td>\n",
       "      <td>1833.94</td>\n",
       "    </tr>\n",
       "    <tr>\n",
       "      <th>Bookcases</th>\n",
       "      <td>114880.05</td>\n",
       "      <td>868</td>\n",
       "      <td>48.14</td>\n",
       "      <td>20832.04</td>\n",
       "      <td>2297.71</td>\n",
       "    </tr>\n",
       "    <tr>\n",
       "      <th>Envelopes</th>\n",
       "      <td>16476.38</td>\n",
       "      <td>906</td>\n",
       "      <td>20.40</td>\n",
       "      <td>6964.10</td>\n",
       "      <td>329.69</td>\n",
       "    </tr>\n",
       "    <tr>\n",
       "      <th>Art</th>\n",
       "      <td>27107.04</td>\n",
       "      <td>2996</td>\n",
       "      <td>59.60</td>\n",
       "      <td>6524.78</td>\n",
       "      <td>542.31</td>\n",
       "    </tr>\n",
       "    <tr>\n",
       "      <th>Labels</th>\n",
       "      <td>12444.90</td>\n",
       "      <td>1396</td>\n",
       "      <td>25.00</td>\n",
       "      <td>5526.31</td>\n",
       "      <td>248.88</td>\n",
       "    </tr>\n",
       "    <tr>\n",
       "      <th>Supplies</th>\n",
       "      <td>46673.52</td>\n",
       "      <td>647</td>\n",
       "      <td>14.60</td>\n",
       "      <td>4842.25</td>\n",
       "      <td>933.45</td>\n",
       "    </tr>\n",
       "    <tr>\n",
       "      <th>Fasteners</th>\n",
       "      <td>3024.25</td>\n",
       "      <td>914</td>\n",
       "      <td>17.80</td>\n",
       "      <td>1015.91</td>\n",
       "      <td>60.52</td>\n",
       "    </tr>\n",
       "  </tbody>\n",
       "</table>\n",
       "</div>"
      ],
      "text/plain": [
       "                  Sales  Quantity  Discount     Profit  Shipping Cost\n",
       "Sub-Category                                                         \n",
       "Binders       203409.21      5971    566.20  107236.68        4068.42\n",
       "Machines      189238.68       440     35.20   63622.17        3784.82\n",
       "Phones        330007.10      3289    137.40   59577.59        6600.61\n",
       "Copiers       149528.01       234     11.00   55617.90        2990.60\n",
       "Tables        206965.68      1241     83.35   47098.89        4139.36\n",
       "Chairs        327777.79      2351    104.70   46304.89        6555.89\n",
       "Accessories   167380.31      2976     60.80   43798.08        3348.01\n",
       "Appliances    107532.14      1729     77.60   35397.41        2150.77\n",
       "Storage       223843.59      3158     63.20   34131.67        4477.14\n",
       "Paper          78224.18      5144    101.80   33944.02        1565.05\n",
       "Furnishings    91682.98      3560    132.40   26034.63        1833.94\n",
       "Bookcases     114880.05       868     48.14   20832.04        2297.71\n",
       "Envelopes      16476.38       906     20.40    6964.10         329.69\n",
       "Art            27107.04      2996     59.60    6524.78         542.31\n",
       "Labels         12444.90      1396     25.00    5526.31         248.88\n",
       "Supplies       46673.52       647     14.60    4842.25         933.45\n",
       "Fasteners       3024.25       914     17.80    1015.91          60.52"
      ]
     },
     "execution_count": 38,
     "metadata": {},
     "output_type": "execute_result"
    }
   ],
   "source": [
    "#Grouping sub-category by profit\n",
    "profit_sub_category = superstore.groupby('Sub-Category').sum().sort_values(ascending = False, by = 'Profit')\n",
    "profit_sub_category"
   ]
  },
  {
   "cell_type": "markdown",
   "id": "c4e5dcfe",
   "metadata": {},
   "source": [
    "**Comment**: Binders, machines and phones took the lead in Sales and Phones"
   ]
  },
  {
   "cell_type": "code",
   "execution_count": 39,
   "id": "c2eb8a78",
   "metadata": {},
   "outputs": [
    {
     "data": {
      "image/png": "[encoded data removed]",
      "text/plain": [
       "<Figure size 720x936 with 1 Axes>"
      ]
     },
     "metadata": {
      "needs_background": "light"
     },
     "output_type": "display_data"
    }
   ],
   "source": [
    "#Visualization of sales and profit across regions\n",
    "superstore_region = superstore[['Region','Sales','Profit']]\n",
    "superstore_region = superstore_region.groupby(['Region']).sum().reset_index()\n",
    "\n",
    "plt.figure(figsize=[10,13])\n",
    "plt.subplot(3,1,1)\n",
    "plt.bar(x=superstore_region['Region'], height=superstore_region['Sales'], color=\"#DDDDDD\")\n",
    "plt.bar(x=superstore_region['Region'], height=superstore_region['Profit'], bottom=superstore_region['Sales'], color=\"#ff715b\")\n",
    "plt.title(\"Sales and Profit Across The Regions\", size=20, pad=20)\n",
    "plt.xlabel('Amount')\n",
    "plt.ylabel('Region')\n",
    "plt.legend(['Sales','Profit'])\n",
    "plt.show()"
   ]
  },
  {
   "cell_type": "markdown",
   "id": "233382a0",
   "metadata": {},
   "source": [
    "**Comment**: The higher the sales volume across the regions, the higher the profit made though the profit generated was a fraction of the sales made"
   ]
  },
  {
   "cell_type": "code",
   "execution_count": 40,
   "id": "8ea5e3f8",
   "metadata": {},
   "outputs": [
    {
     "data": {
      "image/png": "[encoded data removed]",
      "text/plain": [
       "<Figure size 720x936 with 1 Axes>"
      ]
     },
     "metadata": {
      "needs_background": "light"
     },
     "output_type": "display_data"
    }
   ],
   "source": [
    "#Visualization of sales and profit across segments\n",
    "superstore_segment = superstore[['Segment','Sales','Profit']]\n",
    "superstore_segment = superstore_segment.groupby(['Segment']).sum().reset_index()\n",
    "\n",
    "plt.figure(figsize=[10,13])\n",
    "plt.subplot(3,1,1)\n",
    "plt.bar(x=superstore_segment['Segment'], height=superstore_segment['Sales'], color=\"#DDDDDD\")\n",
    "plt.bar(x=superstore_segment['Segment'], height=superstore_segment['Profit'], bottom=superstore_segment['Sales'], color=\"#ff715b\")\n",
    "plt.title(\"Sales and Profit Across The Segments\", size=20, pad=20)\n",
    "plt.xlabel('Segments')\n",
    "plt.ylabel('Amount')\n",
    "plt.legend(['Sales','Profit'])\n",
    "plt.show()"
   ]
  },
  {
   "cell_type": "markdown",
   "id": "9c59f175",
   "metadata": {},
   "source": [
    "**Comment**: The higher the sales volume across the segments, the higher the profit made"
   ]
  },
  {
   "cell_type": "code",
   "execution_count": 41,
   "id": "624fceab",
   "metadata": {},
   "outputs": [
    {
     "data": {
      "image/png": "[encoded data removed]",
      "text/plain": [
       "<Figure size 1296x936 with 1 Axes>"
      ]
     },
     "metadata": {
      "needs_background": "light"
     },
     "output_type": "display_data"
    }
   ],
   "source": [
    "#Visualization of sales and profit across sub-category\n",
    "superstore_sub_category = superstore[['Sub-Category','Sales','Profit']]\n",
    "superstore_sub_category = superstore_sub_category.groupby(['Sub-Category']).sum().reset_index()\n",
    "plt.figure(figsize=[18,13])\n",
    "plt.subplot(3,1,1)\n",
    "plt.bar(x=superstore_sub_category['Sub-Category'], height=superstore_sub_category['Sales'], color=\"#DDDDDD\")\n",
    "plt.bar(x=superstore_sub_category['Sub-Category'], height=superstore_sub_category['Profit'], bottom=superstore_sub_category['Sales'], color=\"#ff715b\")\n",
    "plt.title(\"Sales and Profit Across Sub-Category\", size=20, pad=20)\n",
    "plt.xlabel(\"Sub-Category\")\n",
    "plt.ylabel(\"Amount\")\n",
    "plt.legend(['Sales','Profit'])\n",
    "\n",
    "plt.show()"
   ]
  },
  {
   "cell_type": "markdown",
   "id": "77fbc7a1",
   "metadata": {},
   "source": [
    "**Comment**: The proportion of profit made from the sales of binders seems to be higher than every other sub-category"
   ]
  },
  {
   "cell_type": "code",
   "execution_count": 42,
   "id": "5787168f",
   "metadata": {},
   "outputs": [
    {
     "data": {
      "image/png": "[encoded data removed]",
      "text/plain": [
       "<Figure size 1080x936 with 2 Axes>"
      ]
     },
     "metadata": {},
     "output_type": "display_data"
    }
   ],
   "source": [
    "#Visualization of sales and profit across categories\n",
    "plt.figure(figsize=[15,13])\n",
    "superstore_pie = superstore[['Category','Sales','Profit']]\n",
    "superstore_pie = superstore_pie.groupby(['Category']).sum().reset_index()\n",
    "\n",
    "plt.subplot(3,2,3)\n",
    "plt.pie(superstore_pie['Profit'], labels=superstore_pie['Category'], colors=[\"#DDDDDD\", \"#ff715b\", \"#77878b\"], autopct='%1.1f%%')\n",
    "plt.title(\"Profit across the categories\")\n",
    "plt.subplot(3,2,4)\n",
    "plt.pie(superstore_pie['Sales'], labels=superstore_pie['Category'], colors=[\"#DDDDDD\", \"#ff715b\", \"#77878b\"], autopct='%1.1f%%')\n",
    "plt.title(\"Sales across categories\")\n",
    "\n",
    "plt.show()"
   ]
  },
  {
   "cell_type": "markdown",
   "id": "517822ec",
   "metadata": {},
   "source": [
    "**Comment**: Office supplies categories generated the highest profit but the least sales. Technology category generated the highest sales"
   ]
  },
  {
   "cell_type": "code",
   "execution_count": 43,
   "id": "ff79d609",
   "metadata": {
    "scrolled": true
   },
   "outputs": [
    {
     "data": {
      "text/plain": [
       "Profit           1.000000\n",
       "Shipping Cost    0.787422\n",
       "Sales            0.787422\n",
       "Quantity         0.143268\n",
       "Discount         0.033160\n",
       "Name: Profit, dtype: float64"
      ]
     },
     "execution_count": 43,
     "metadata": {},
     "output_type": "execute_result"
    }
   ],
   "source": [
    "#Correlation of the variables\n",
    "superstore.corr()['Profit'].sort_values(ascending=False)"
   ]
  },
  {
   "cell_type": "code",
   "execution_count": 44,
   "id": "31dd8296",
   "metadata": {},
   "outputs": [
    {
     "data": {
      "image/png": "[encoded data removed]",
      "text/plain": [
       "<Figure size 720x576 with 2 Axes>"
      ]
     },
     "metadata": {
      "needs_background": "light"
     },
     "output_type": "display_data"
    }
   ],
   "source": [
    "fig, ax = plt.subplots(figsize = (10, 8))\n",
    "cmap = sns.diverging_palette(230, 20, as_cmap = True, center = \"light\")\n",
    "sns.heatmap(superstore.corr(), annot = True, cmap = cmap)\n",
    "plt.show()"
   ]
  },
  {
   "cell_type": "markdown",
   "id": "8e9b1249",
   "metadata": {},
   "source": [
    "**Comment**: There is an high correlation between Profit, Sales and Shipping Cost."
   ]
  },
  {
   "cell_type": "markdown",
   "id": "1ba62ad5",
   "metadata": {},
   "source": [
    "# **Observation**\n",
    "\n",
    "\n",
    "\n",
    "1. Stores in New york city and Los Angeles sold the highest volume of goods and also generated the highest profit. Though Abilene, Elyria and Jupiter sold the least quantity of goods, Jupiter, San Lus Obispo and Arlington Height stores had the least profit\n",
    "\n",
    "2. Binders, machines and phones sub-category generated the highest profit\n",
    "\n",
    "3. Philadelphia, Houston, Chicago, Dallas, and Los Angeles gave the highest discounts to their clients.\n",
    "\n",
    "\n",
    "4. Though goods in the Office sub-category sold the highest quantity of goods, they came second in terms of sales and  generated the highest profit. In contrast, technology sub-category generated the highest sales with the least quantity of goods sold. However, it generated the second highest profit.\n",
    "\n",
    "5.  The consumer segment sold the highest quantity of goods, generated the highest sales, profit and gave the highest discount\n",
    "\n",
    "6. The East and West regions took the lead in Sales, Quantity, Profit and Shipping Cost\n",
    "\n",
    "7. The most lucrative products were in the phones and copiers sub-categories.\n",
    "\n",
    "8.  Office supplies categories generated the highest profit but the least sales. Technology category generated the highest sales\n",
    "\n",
    "9.  The higher the sales volume across the regions and segments, the higher the profit made though the profit generated was a fraction of the sales made\n",
    "\n",
    "10. There is a strong correlation between Sales, Profit and Shipping Mode"
   ]
  },
  {
   "cell_type": "markdown",
   "id": "11e86f53",
   "metadata": {},
   "source": [
    "# **Recommendation**\n",
    "\n",
    "1. In a bid to maximize profit, the management should focus on concentrating on cities such as New York City, Los Angeles, Seattle, San Francisco, and Detroit that generates high sales and profit margin by opening more outlets in such cities if possible and also to increase the merchandize available in such cities.\n",
    "\n",
    "2. For stores in Abilene, Elyria and Jupiter which recorded low sales, marketing and advertising should be increased in order to increase sales\n",
    "\n",
    "3. Since, the east and west region generated the highest sales, efforts should be made to consolidate and improve sales in that region as opposed to the central and southern region were lower sales was made\n",
    "\n",
    "5. With office goods such as binders and fasteners, furnishings and phones taking the lead in generating the highest income for the company, more innovative goods in these categories should be frequently stocked in order to continue to improve sales in these sub-categories\n",
    "\n",
    "6. Generally, offering discounts did not improve sales in the cities that gave the highest discount, hence less discounts should be offered and more effort should be placed on aggresive marketing and customer satisfication\n",
    "\n",
    "7. An high correlation exists between sales, profit and shipping mode. Thus, the company should consider partnering with some delivery companies that can offer lesser shipping charges so as to increase sales and profit\n",
    "\n",
    "8. Efforts should be made in increasing customer satisfaction across all the stores so as increase the number of loyal customers that would rather choose to shop in stores owned by the organization rather than shopping with the competitors"
   ]
  }
 ],
 "metadata": {
  "kernelspec": {
   "display_name": "Python 3 (ipykernel)",
   "language": "python",
   "name": "python3"
  },
  "language_info": {
   "codemirror_mode": {
    "name": "ipython",
    "version": 3
   },
   "file_extension": ".py",
   "mimetype": "text/x-python",
   "name": "python",
   "nbconvert_exporter": "python",
   "pygments_lexer": "ipython3",
   "version": "3.9.7"
  }
 },
 "nbformat": 4,
 "nbformat_minor": 5
}
